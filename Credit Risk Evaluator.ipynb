{
 "cells": [
  {
   "cell_type": "markdown",
   "metadata": {},
   "source": [
    "#### Dependencies and Setup"
   ]
  },
  {
   "cell_type": "code",
   "execution_count": 34,
   "metadata": {},
   "outputs": [],
   "source": [
    "# dependencies\n",
    "import numpy as np\n",
    "import pandas as me\n",
    "from pathlib import Path\n",
    "from sklearn.model_selection import train_test_split\n",
    "from sklearn.linear_model import LogisticRegression\n",
    "from sklearn.ensemble import RandomForestClassifier\n",
    "from sklearn.preprocessing import StandardScaler, MinMaxScaler"
   ]
  },
  {
   "cell_type": "code",
   "execution_count": 35,
   "metadata": {},
   "outputs": [
    {
     "data": {
      "text/html": [
       "<div>\n",
       "<style scoped>\n",
       "    .dataframe tbody tr th:only-of-type {\n",
       "        vertical-align: middle;\n",
       "    }\n",
       "\n",
       "    .dataframe tbody tr th {\n",
       "        vertical-align: top;\n",
       "    }\n",
       "\n",
       "    .dataframe thead th {\n",
       "        text-align: right;\n",
       "    }\n",
       "</style>\n",
       "<table border=\"1\" class=\"dataframe\">\n",
       "  <thead>\n",
       "    <tr style=\"text-align: right;\">\n",
       "      <th></th>\n",
       "      <th>loan_size</th>\n",
       "      <th>interest_rate</th>\n",
       "      <th>borrower_income</th>\n",
       "      <th>debt_to_income</th>\n",
       "      <th>num_of_accounts</th>\n",
       "      <th>derogatory_marks</th>\n",
       "      <th>total_debt</th>\n",
       "      <th>loan_status</th>\n",
       "    </tr>\n",
       "  </thead>\n",
       "  <tbody>\n",
       "    <tr>\n",
       "      <th>0</th>\n",
       "      <td>10700.0</td>\n",
       "      <td>7.672</td>\n",
       "      <td>52800</td>\n",
       "      <td>0.431818</td>\n",
       "      <td>5</td>\n",
       "      <td>1</td>\n",
       "      <td>22800</td>\n",
       "      <td>0</td>\n",
       "    </tr>\n",
       "    <tr>\n",
       "      <th>1</th>\n",
       "      <td>8400.0</td>\n",
       "      <td>6.692</td>\n",
       "      <td>43600</td>\n",
       "      <td>0.311927</td>\n",
       "      <td>3</td>\n",
       "      <td>0</td>\n",
       "      <td>13600</td>\n",
       "      <td>0</td>\n",
       "    </tr>\n",
       "    <tr>\n",
       "      <th>2</th>\n",
       "      <td>9000.0</td>\n",
       "      <td>6.963</td>\n",
       "      <td>46100</td>\n",
       "      <td>0.349241</td>\n",
       "      <td>3</td>\n",
       "      <td>0</td>\n",
       "      <td>16100</td>\n",
       "      <td>0</td>\n",
       "    </tr>\n",
       "    <tr>\n",
       "      <th>3</th>\n",
       "      <td>10700.0</td>\n",
       "      <td>7.664</td>\n",
       "      <td>52700</td>\n",
       "      <td>0.430740</td>\n",
       "      <td>5</td>\n",
       "      <td>1</td>\n",
       "      <td>22700</td>\n",
       "      <td>0</td>\n",
       "    </tr>\n",
       "    <tr>\n",
       "      <th>4</th>\n",
       "      <td>10800.0</td>\n",
       "      <td>7.698</td>\n",
       "      <td>53000</td>\n",
       "      <td>0.433962</td>\n",
       "      <td>5</td>\n",
       "      <td>1</td>\n",
       "      <td>23000</td>\n",
       "      <td>0</td>\n",
       "    </tr>\n",
       "  </tbody>\n",
       "</table>\n",
       "</div>"
      ],
      "text/plain": [
       "   loan_size  interest_rate  borrower_income  debt_to_income  num_of_accounts  \\\n",
       "0    10700.0          7.672            52800        0.431818                5   \n",
       "1     8400.0          6.692            43600        0.311927                3   \n",
       "2     9000.0          6.963            46100        0.349241                3   \n",
       "3    10700.0          7.664            52700        0.430740                5   \n",
       "4    10800.0          7.698            53000        0.433962                5   \n",
       "\n",
       "   derogatory_marks  total_debt  loan_status  \n",
       "0                 1       22800            0  \n",
       "1                 0       13600            0  \n",
       "2                 0       16100            0  \n",
       "3                 1       22700            0  \n",
       "4                 1       23000            0  "
      ]
     },
     "execution_count": 35,
     "metadata": {},
     "output_type": "execute_result"
    }
   ],
   "source": [
    "# import the data\n",
    "file_path = Path('Resources/lending_data.csv')\n",
    "lending_df = me.read_csv(file_path)\n",
    "lending_df.head()"
   ]
  },
  {
   "cell_type": "code",
   "execution_count": 36,
   "metadata": {},
   "outputs": [
    {
     "name": "stdout",
     "output_type": "stream",
     "text": [
      "<class 'pandas.core.frame.DataFrame'>\n",
      "RangeIndex: 77536 entries, 0 to 77535\n",
      "Data columns (total 8 columns):\n",
      " #   Column            Non-Null Count  Dtype  \n",
      "---  ------            --------------  -----  \n",
      " 0   loan_size         77536 non-null  float64\n",
      " 1   interest_rate     77536 non-null  float64\n",
      " 2   borrower_income   77536 non-null  int64  \n",
      " 3   debt_to_income    77536 non-null  float64\n",
      " 4   num_of_accounts   77536 non-null  int64  \n",
      " 5   derogatory_marks  77536 non-null  int64  \n",
      " 6   total_debt        77536 non-null  int64  \n",
      " 7   loan_status       77536 non-null  int64  \n",
      "dtypes: float64(3), int64(5)\n",
      "memory usage: 4.7 MB\n"
     ]
    }
   ],
   "source": [
    "# verify non-null data\n",
    "lending_df.info()"
   ]
  },
  {
   "cell_type": "markdown",
   "metadata": {},
   "source": [
    "#### Prediction\n",
    "The logistic regression model will perform better than the random forest classifier as logistic regression tends to do better when presented with categorical or bianry data. Since the data used determies if a loan was approved or not by indicating \"1\" or \"0\", logistic regression would be better suited.  "
   ]
  },
  {
   "cell_type": "code",
   "execution_count": 37,
   "metadata": {},
   "outputs": [],
   "source": [
    "# define the X and y sets\n",
    "y = lending_df['loan_status'].values\n",
    "X = lending_df.drop('loan_status', axis = 1)"
   ]
  },
  {
   "cell_type": "code",
   "execution_count": 38,
   "metadata": {},
   "outputs": [
    {
     "data": {
      "text/html": [
       "<div>\n",
       "<style scoped>\n",
       "    .dataframe tbody tr th:only-of-type {\n",
       "        vertical-align: middle;\n",
       "    }\n",
       "\n",
       "    .dataframe tbody tr th {\n",
       "        vertical-align: top;\n",
       "    }\n",
       "\n",
       "    .dataframe thead th {\n",
       "        text-align: right;\n",
       "    }\n",
       "</style>\n",
       "<table border=\"1\" class=\"dataframe\">\n",
       "  <thead>\n",
       "    <tr style=\"text-align: right;\">\n",
       "      <th></th>\n",
       "      <th>loan_size</th>\n",
       "      <th>interest_rate</th>\n",
       "      <th>borrower_income</th>\n",
       "      <th>debt_to_income</th>\n",
       "      <th>num_of_accounts</th>\n",
       "      <th>derogatory_marks</th>\n",
       "      <th>total_debt</th>\n",
       "    </tr>\n",
       "  </thead>\n",
       "  <tbody>\n",
       "    <tr>\n",
       "      <th>36107</th>\n",
       "      <td>10200.0</td>\n",
       "      <td>7.447</td>\n",
       "      <td>50700</td>\n",
       "      <td>0.408284</td>\n",
       "      <td>4</td>\n",
       "      <td>1</td>\n",
       "      <td>20700</td>\n",
       "    </tr>\n",
       "    <tr>\n",
       "      <th>24526</th>\n",
       "      <td>9900.0</td>\n",
       "      <td>7.325</td>\n",
       "      <td>49500</td>\n",
       "      <td>0.393939</td>\n",
       "      <td>4</td>\n",
       "      <td>0</td>\n",
       "      <td>19500</td>\n",
       "    </tr>\n",
       "    <tr>\n",
       "      <th>39387</th>\n",
       "      <td>8500.0</td>\n",
       "      <td>6.757</td>\n",
       "      <td>44200</td>\n",
       "      <td>0.321267</td>\n",
       "      <td>3</td>\n",
       "      <td>0</td>\n",
       "      <td>14200</td>\n",
       "    </tr>\n",
       "    <tr>\n",
       "      <th>46172</th>\n",
       "      <td>8700.0</td>\n",
       "      <td>6.807</td>\n",
       "      <td>44700</td>\n",
       "      <td>0.328859</td>\n",
       "      <td>3</td>\n",
       "      <td>0</td>\n",
       "      <td>14700</td>\n",
       "    </tr>\n",
       "    <tr>\n",
       "      <th>39976</th>\n",
       "      <td>10900.0</td>\n",
       "      <td>7.770</td>\n",
       "      <td>53700</td>\n",
       "      <td>0.441341</td>\n",
       "      <td>5</td>\n",
       "      <td>1</td>\n",
       "      <td>23700</td>\n",
       "    </tr>\n",
       "  </tbody>\n",
       "</table>\n",
       "</div>"
      ],
      "text/plain": [
       "       loan_size  interest_rate  borrower_income  debt_to_income  \\\n",
       "36107    10200.0          7.447            50700        0.408284   \n",
       "24526     9900.0          7.325            49500        0.393939   \n",
       "39387     8500.0          6.757            44200        0.321267   \n",
       "46172     8700.0          6.807            44700        0.328859   \n",
       "39976    10900.0          7.770            53700        0.441341   \n",
       "\n",
       "       num_of_accounts  derogatory_marks  total_debt  \n",
       "36107                4                 1       20700  \n",
       "24526                4                 0       19500  \n",
       "39387                3                 0       14200  \n",
       "46172                3                 0       14700  \n",
       "39976                5                 1       23700  "
      ]
     },
     "execution_count": 38,
     "metadata": {},
     "output_type": "execute_result"
    }
   ],
   "source": [
    "# separate the target feature 'loan_status' for training data\n",
    "X_train, X_test, y_train, y_test = train_test_split(X, y, random_state= 777)\n",
    "X_train.head()"
   ]
  },
  {
   "cell_type": "markdown",
   "metadata": {},
   "source": [
    "##### Unscaled Results"
   ]
  },
  {
   "cell_type": "code",
   "execution_count": 39,
   "metadata": {},
   "outputs": [
    {
     "name": "stdout",
     "output_type": "stream",
     "text": [
      "Unscaled LR Training Data Score: 0.9923304443527308\n",
      "Unscaled LR Testing Data Score: 0.9912298803136608\n"
     ]
    }
   ],
   "source": [
    "# train a Logistic Regression model print the model score (unscaled)\n",
    "from sklearn.linear_model import LogisticRegression\n",
    "model_us = LogisticRegression(max_iter=10000)\n",
    "model_us.fit(X_train, y_train)\n",
    "print(f'Unscaled LR Training Data Score: {model_us.score(X_train, y_train)}')\n",
    "print(f'Unscaled LR Testing Data Score: {model_us.score(X_test, y_test)}')"
   ]
  },
  {
   "cell_type": "code",
   "execution_count": 40,
   "metadata": {},
   "outputs": [
    {
     "name": "stdout",
     "output_type": "stream",
     "text": [
      "Unscaled RFC Training Score: 0.9974893382858715\n",
      "Unscaled RFC Testing Score: 0.991642591828312\n"
     ]
    }
   ],
   "source": [
    "# train a Random Forest Classifier model and print the model score (unscaled)\n",
    "classifier_us = RandomForestClassifier(random_state=777, n_estimators=500).fit(X_train, y_train)\n",
    "print(f'Unscaled RFC Training Score: {classifier_us.score(X_train, y_train)}')\n",
    "print(f'Unscaled RFC Testing Score: {classifier_us.score(X_test, y_test)}')"
   ]
  },
  {
   "cell_type": "code",
   "execution_count": 41,
   "metadata": {},
   "outputs": [],
   "source": [
    "# scale the data\n",
    "scaler = StandardScaler().fit(X_train)\n",
    "X_train_scaled = scaler.transform(X_train)\n",
    "X_test_scaled = scaler.transform(X_test)"
   ]
  },
  {
   "cell_type": "markdown",
   "metadata": {},
   "source": [
    "##### Scaled Results"
   ]
  },
  {
   "cell_type": "code",
   "execution_count": 42,
   "metadata": {},
   "outputs": [
    {
     "name": "stdout",
     "output_type": "stream",
     "text": [
      "Scaled LR Training Data Score: 0.9942736277342138\n",
      "Scaled LR Testing Data Score: 0.9937061494015683\n"
     ]
    }
   ],
   "source": [
    "# train a Logistic Regression model print the model score (scaled)\n",
    "model_s = LogisticRegression()\n",
    "model_s.fit(X_train_scaled, y_train)\n",
    "print(f'Scaled LR Training Data Score: {model_s.score(X_train_scaled, y_train)}')\n",
    "print(f'Scaled LR Testing Data Score: {model_s.score(X_test_scaled, y_test)}')"
   ]
  },
  {
   "cell_type": "code",
   "execution_count": 43,
   "metadata": {},
   "outputs": [
    {
     "name": "stdout",
     "output_type": "stream",
     "text": [
      "Scaled RFC Training Score: 0.9974893382858715\n",
      "Scaled RFC Testing Score: 0.9913330581923235\n"
     ]
    }
   ],
   "source": [
    "# train a Random Forest Classifier model and print the model score (scaled)\n",
    "classifier_s = RandomForestClassifier(random_state=777, n_estimators=500).fit(X_train_scaled, y_train)\n",
    "print(f'Scaled RFC Training Score: {classifier_s.score(X_train_scaled, y_train)}')\n",
    "print(f'Scaled RFC Testing Score: {classifier_s.score(X_test_scaled, y_test)}')"
   ]
  },
  {
   "cell_type": "markdown",
   "metadata": {},
   "source": [
    "#### Analysis"
   ]
  },
  {
   "cell_type": "markdown",
   "metadata": {},
   "source": [
    "Both the unscaled logistic regression (LR) testing and training scores were very close as were the scaled LR scores. Additionally, both the scaled and unscaled LR results were close to each other. On the other side, the random forest classifier (RFC) scores were close to one another. Maybe it was the fact I used a high random state and it would be equally likely that these scores would drop if I reduced the state to a much lower number. Technically, RFC unscaled and scaled slightly outperformed LR unscaled and scaled, but I was expecting the LR models to do better in this instance. \n",
    "\n",
    "Here are my initial results (truncated): \n",
    "* Unscaled LR Training Data Score: 0.99233\n",
    "* Unscaled LR Testing Data Score:  0.99122\n",
    "* Unscaled RFC Training Score: 0.99748\n",
    "* Unscaled RFC Testing Score: 0.99164\n",
    "* Scaled LR Training Data Score: 0.99427\n",
    "* Scaled LR Testing Data Score: 0.99370\n",
    "* Scaled RFC Training Score: 0.99748\n",
    "* Scaled RFC Testing Score: 0.99133\n",
    "\n",
    "Again, I was certain these would change if I reduced the number. Running them again with a lower random state number, keeping the LR iterations at 10,000 and n_estimators at 500 most likely would not move the results with the slightest significance. So while my initial assumption that logistic regression would yield better results, I can take solace that the two models ended in a virtual tie. "
   ]
  },
  {
   "cell_type": "markdown",
   "metadata": {},
   "source": []
  }
 ],
 "metadata": {
  "kernelspec": {
   "display_name": "Python 3.7.13 ('PythonData')",
   "language": "python",
   "name": "python3"
  },
  "language_info": {
   "codemirror_mode": {
    "name": "ipython",
    "version": 3
   },
   "file_extension": ".py",
   "mimetype": "text/x-python",
   "name": "python",
   "nbconvert_exporter": "python",
   "pygments_lexer": "ipython3",
   "version": "3.7.13"
  },
  "vscode": {
   "interpreter": {
    "hash": "5732daaff27bedd23a257144bd1049010c4d9b5b94dfee533ce6f7bbe5506b15"
   }
  }
 },
 "nbformat": 4,
 "nbformat_minor": 4
}
